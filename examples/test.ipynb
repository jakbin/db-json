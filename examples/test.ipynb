{
 "cells": [
  {
   "cell_type": "markdown",
   "metadata": {},
   "source": [
    "### Import dbjson"
   ]
  },
  {
   "cell_type": "code",
   "execution_count": null,
   "metadata": {},
   "outputs": [],
   "source": [
    "from dbjson import DBjson"
   ]
  },
  {
   "cell_type": "markdown",
   "metadata": {},
   "source": [
    "set database and create modeel"
   ]
  },
  {
   "cell_type": "code",
   "execution_count": null,
   "metadata": {},
   "outputs": [],
   "source": [
    "db = DBjson('sqlite:///test.db')\n",
    "\n",
    "class User(db.Model):\n",
    "    '''set structure of database'''\n",
    "    sno = db.Column(db.Integer, primary_key=True, index=True)\n",
    "    name = db.Column(db.String)\n",
    "    city = db.Column(db.String)"
   ]
  },
  {
   "cell_type": "code",
   "execution_count": null,
   "metadata": {},
   "outputs": [],
   "source": [
    "# insert data\n",
    "add_data = {\"name\": \"Jak\",\"city\": \"india\"}\n",
    "print(db.add(User, add_data))"
   ]
  },
  {
   "cell_type": "code",
   "execution_count": null,
   "metadata": {},
   "outputs": [],
   "source": [
    "# insert multiple data\n",
    "addMany_data = [{\"name\": \"Jaky\",\"city\": \"india\"},{\"name\": \"Jak bin\",\"city\": \"india\"}]\n",
    "print(db.add_many(User, addMany_data))"
   ]
  },
  {
   "cell_type": "code",
   "execution_count": null,
   "metadata": {},
   "outputs": [],
   "source": [
    "# read all data\n",
    "print(db.get_all(User))"
   ]
  },
  {
   "cell_type": "code",
   "execution_count": null,
   "metadata": {},
   "outputs": [],
   "source": [
    "# read single data\n",
    "data = {\"sno\":1}\n",
    "print(db.get(User, data))"
   ]
  },
  {
   "cell_type": "code",
   "execution_count": null,
   "metadata": {},
   "outputs": [],
   "source": [
    "# update data\n",
    "update_data = {\"sno\":2,\"name\": \"jak bin\",\"city\": \"india\"}\n",
    "print(db.update(User, update_data, 'sno'))"
   ]
  },
  {
   "cell_type": "code",
   "execution_count": null,
   "metadata": {},
   "outputs": [],
   "source": [
    "# search data\n",
    "search_data = {'name':'jak'}\n",
    "print(db.search(User, search_data))"
   ]
  },
  {
   "cell_type": "code",
   "execution_count": null,
   "metadata": {},
   "outputs": [],
   "source": [
    "# delete data\n",
    "delete_data = {\"sno\":1}\n",
    "print(db.delete(User, delete_data))"
   ]
  }
 ],
 "metadata": {
  "language_info": {
   "name": "python"
  },
  "orig_nbformat": 4
 },
 "nbformat": 4,
 "nbformat_minor": 2
}
